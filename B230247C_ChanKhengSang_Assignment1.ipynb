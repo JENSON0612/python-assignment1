{
 "cells": [
  {
   "cell_type": "code",
   "execution_count": 31,
   "id": "4929e4c3-3631-489a-bc59-b11a84270fcc",
   "metadata": {},
   "outputs": [
    {
     "name": "stdout",
     "output_type": "stream",
     "text": [
      "!! Welcome To Tic Tac Toe !!\n",
      "    |   |  \n",
      "  1 | 2 | 3\n",
      "_ _ _ _ _ _ _\n",
      "    |   |  \n",
      "  4 | 5 | 6\n",
      "_ _ _ _ _ _ _\n",
      "    |   |  \n",
      "  7 | 8 | 9\n",
      "    |   |  \n",
      "\n",
      "METHOD FOR PLAYING\n",
      "\n",
      "1. Choose the symbol that you want.\n",
      "\n",
      "2. Choose the number to place your symbol.\n",
      "\n",
      "3. Follow the Tic Tac Toe rules which you can win by putting your symbol diagonally, horizontally and vertically.\n",
      "\n",
      "When each symbol links together as the rules mention, you will count as won.\n",
      "\n"
     ]
    },
    {
     "name": "stdin",
     "output_type": "stream",
     "text": [
      "Please enter '1' to start the game:  1\n",
      "Player 1, please choose 'X' or 'O':  x\n"
     ]
    },
    {
     "name": "stdout",
     "output_type": "stream",
     "text": [
      "    |   |  \n",
      "  1 | 2 | 3\n",
      "_ _ _ _ _ _ _\n",
      "    |   |  \n",
      "  4 | 5 | 6\n",
      "_ _ _ _ _ _ _\n",
      "    |   |  \n",
      "  7 | 8 | 9\n",
      "    |   |  \n"
     ]
    },
    {
     "name": "stdin",
     "output_type": "stream",
     "text": [
      "Now it's player X's turn. Please select a number to put your sign:  1\n"
     ]
    },
    {
     "name": "stdout",
     "output_type": "stream",
     "text": [
      "    |   |  \n",
      "  X | 2 | 3\n",
      "_ _ _ _ _ _ _\n",
      "    |   |  \n",
      "  4 | 5 | 6\n",
      "_ _ _ _ _ _ _\n",
      "    |   |  \n",
      "  7 | 8 | 9\n",
      "    |   |  \n"
     ]
    },
    {
     "name": "stdin",
     "output_type": "stream",
     "text": [
      "Now it's player O's turn. Please select a number to put your sign:  2\n"
     ]
    },
    {
     "name": "stdout",
     "output_type": "stream",
     "text": [
      "    |   |  \n",
      "  X | O | 3\n",
      "_ _ _ _ _ _ _\n",
      "    |   |  \n",
      "  4 | 5 | 6\n",
      "_ _ _ _ _ _ _\n",
      "    |   |  \n",
      "  7 | 8 | 9\n",
      "    |   |  \n"
     ]
    },
    {
     "name": "stdin",
     "output_type": "stream",
     "text": [
      "Now it's player X's turn. Please select a number to put your sign:  4\n"
     ]
    },
    {
     "name": "stdout",
     "output_type": "stream",
     "text": [
      "    |   |  \n",
      "  X | O | 3\n",
      "_ _ _ _ _ _ _\n",
      "    |   |  \n",
      "  X | 5 | 6\n",
      "_ _ _ _ _ _ _\n",
      "    |   |  \n",
      "  7 | 8 | 9\n",
      "    |   |  \n"
     ]
    },
    {
     "name": "stdin",
     "output_type": "stream",
     "text": [
      "Now it's player O's turn. Please select a number to put your sign:  5\n"
     ]
    },
    {
     "name": "stdout",
     "output_type": "stream",
     "text": [
      "    |   |  \n",
      "  X | O | 3\n",
      "_ _ _ _ _ _ _\n",
      "    |   |  \n",
      "  X | O | 6\n",
      "_ _ _ _ _ _ _\n",
      "    |   |  \n",
      "  7 | 8 | 9\n",
      "    |   |  \n"
     ]
    },
    {
     "name": "stdin",
     "output_type": "stream",
     "text": [
      "Now it's player X's turn. Please select a number to put your sign:  7\n"
     ]
    },
    {
     "name": "stdout",
     "output_type": "stream",
     "text": [
      "    |   |  \n",
      "  X | O | 3\n",
      "_ _ _ _ _ _ _\n",
      "    |   |  \n",
      "  X | O | 6\n",
      "_ _ _ _ _ _ _\n",
      "    |   |  \n",
      "  X | 8 | 9\n",
      "    |   |  \n",
      "Congratulations! Player X is the winner!\n"
     ]
    },
    {
     "name": "stdin",
     "output_type": "stream",
     "text": [
      "Rematch? (y/n):  y\n"
     ]
    },
    {
     "name": "stdout",
     "output_type": "stream",
     "text": [
      "!! Welcome To Tic Tac Toe !!\n",
      "    |   |  \n",
      "  1 | 2 | 3\n",
      "_ _ _ _ _ _ _\n",
      "    |   |  \n",
      "  4 | 5 | 6\n",
      "_ _ _ _ _ _ _\n",
      "    |   |  \n",
      "  7 | 8 | 9\n",
      "    |   |  \n",
      "\n",
      "METHOD FOR PLAYING\n",
      "\n",
      "1. Choose the symbol that you want.\n",
      "\n",
      "2. Choose the number to place your symbol.\n",
      "\n",
      "3. Follow the Tic Tac Toe rules which you can win by putting your symbol diagonally, horizontally and vertically.\n",
      "\n",
      "When each symbol links together as the rules mention, you will count as won.\n",
      "\n"
     ]
    },
    {
     "name": "stdin",
     "output_type": "stream",
     "text": [
      "Please enter '1' to start the game:  1\n",
      "Player 1, please choose 'X' or 'O':  o\n"
     ]
    },
    {
     "name": "stdout",
     "output_type": "stream",
     "text": [
      "    |   |  \n",
      "  1 | 2 | 3\n",
      "_ _ _ _ _ _ _\n",
      "    |   |  \n",
      "  4 | 5 | 6\n",
      "_ _ _ _ _ _ _\n",
      "    |   |  \n",
      "  7 | 8 | 9\n",
      "    |   |  \n"
     ]
    },
    {
     "name": "stdin",
     "output_type": "stream",
     "text": [
      "Now it's player O's turn. Please select a number to put your sign:  1\n"
     ]
    },
    {
     "name": "stdout",
     "output_type": "stream",
     "text": [
      "    |   |  \n",
      "  O | 2 | 3\n",
      "_ _ _ _ _ _ _\n",
      "    |   |  \n",
      "  4 | 5 | 6\n",
      "_ _ _ _ _ _ _\n",
      "    |   |  \n",
      "  7 | 8 | 9\n",
      "    |   |  \n"
     ]
    },
    {
     "name": "stdin",
     "output_type": "stream",
     "text": [
      "Now it's player X's turn. Please select a number to put your sign:  2\n"
     ]
    },
    {
     "name": "stdout",
     "output_type": "stream",
     "text": [
      "    |   |  \n",
      "  O | X | 3\n",
      "_ _ _ _ _ _ _\n",
      "    |   |  \n",
      "  4 | 5 | 6\n",
      "_ _ _ _ _ _ _\n",
      "    |   |  \n",
      "  7 | 8 | 9\n",
      "    |   |  \n"
     ]
    },
    {
     "name": "stdin",
     "output_type": "stream",
     "text": [
      "Now it's player O's turn. Please select a number to put your sign:  3\n"
     ]
    },
    {
     "name": "stdout",
     "output_type": "stream",
     "text": [
      "    |   |  \n",
      "  O | X | O\n",
      "_ _ _ _ _ _ _\n",
      "    |   |  \n",
      "  4 | 5 | 6\n",
      "_ _ _ _ _ _ _\n",
      "    |   |  \n",
      "  7 | 8 | 9\n",
      "    |   |  \n"
     ]
    },
    {
     "name": "stdin",
     "output_type": "stream",
     "text": [
      "Now it's player X's turn. Please select a number to put your sign:  4\n"
     ]
    },
    {
     "name": "stdout",
     "output_type": "stream",
     "text": [
      "    |   |  \n",
      "  O | X | O\n",
      "_ _ _ _ _ _ _\n",
      "    |   |  \n",
      "  X | 5 | 6\n",
      "_ _ _ _ _ _ _\n",
      "    |   |  \n",
      "  7 | 8 | 9\n",
      "    |   |  \n"
     ]
    },
    {
     "name": "stdin",
     "output_type": "stream",
     "text": [
      "Now it's player O's turn. Please select a number to put your sign:  5\n"
     ]
    },
    {
     "name": "stdout",
     "output_type": "stream",
     "text": [
      "    |   |  \n",
      "  O | X | O\n",
      "_ _ _ _ _ _ _\n",
      "    |   |  \n",
      "  X | O | 6\n",
      "_ _ _ _ _ _ _\n",
      "    |   |  \n",
      "  7 | 8 | 9\n",
      "    |   |  \n"
     ]
    },
    {
     "name": "stdin",
     "output_type": "stream",
     "text": [
      "Now it's player X's turn. Please select a number to put your sign:  9\n"
     ]
    },
    {
     "name": "stdout",
     "output_type": "stream",
     "text": [
      "    |   |  \n",
      "  O | X | O\n",
      "_ _ _ _ _ _ _\n",
      "    |   |  \n",
      "  X | O | 6\n",
      "_ _ _ _ _ _ _\n",
      "    |   |  \n",
      "  7 | 8 | X\n",
      "    |   |  \n"
     ]
    },
    {
     "name": "stdin",
     "output_type": "stream",
     "text": [
      "Now it's player O's turn. Please select a number to put your sign:  6\n"
     ]
    },
    {
     "name": "stdout",
     "output_type": "stream",
     "text": [
      "    |   |  \n",
      "  O | X | O\n",
      "_ _ _ _ _ _ _\n",
      "    |   |  \n",
      "  X | O | O\n",
      "_ _ _ _ _ _ _\n",
      "    |   |  \n",
      "  7 | 8 | X\n",
      "    |   |  \n"
     ]
    },
    {
     "name": "stdin",
     "output_type": "stream",
     "text": [
      "Now it's player X's turn. Please select a number to put your sign:  7\n"
     ]
    },
    {
     "name": "stdout",
     "output_type": "stream",
     "text": [
      "    |   |  \n",
      "  O | X | O\n",
      "_ _ _ _ _ _ _\n",
      "    |   |  \n",
      "  X | O | O\n",
      "_ _ _ _ _ _ _\n",
      "    |   |  \n",
      "  X | 8 | X\n",
      "    |   |  \n"
     ]
    },
    {
     "name": "stdin",
     "output_type": "stream",
     "text": [
      "Now it's player O's turn. Please select a number to put your sign:  8\n"
     ]
    },
    {
     "name": "stdout",
     "output_type": "stream",
     "text": [
      "    |   |  \n",
      "  O | X | O\n",
      "_ _ _ _ _ _ _\n",
      "    |   |  \n",
      "  X | O | O\n",
      "_ _ _ _ _ _ _\n",
      "    |   |  \n",
      "  X | O | X\n",
      "    |   |  \n",
      "It is a draw!\n"
     ]
    },
    {
     "name": "stdin",
     "output_type": "stream",
     "text": [
      "Rematch? (y/n):  y\n"
     ]
    },
    {
     "name": "stdout",
     "output_type": "stream",
     "text": [
      "!! Welcome To Tic Tac Toe !!\n",
      "    |   |  \n",
      "  1 | 2 | 3\n",
      "_ _ _ _ _ _ _\n",
      "    |   |  \n",
      "  4 | 5 | 6\n",
      "_ _ _ _ _ _ _\n",
      "    |   |  \n",
      "  7 | 8 | 9\n",
      "    |   |  \n",
      "\n",
      "METHOD FOR PLAYING\n",
      "\n",
      "1. Choose the symbol that you want.\n",
      "\n",
      "2. Choose the number to place your symbol.\n",
      "\n",
      "3. Follow the Tic Tac Toe rules which you can win by putting your symbol diagonally, horizontally and vertically.\n",
      "\n",
      "When each symbol links together as the rules mention, you will count as won.\n",
      "\n"
     ]
    },
    {
     "name": "stdin",
     "output_type": "stream",
     "text": [
      "Please enter '1' to start the game:  1\n",
      "Player 1, please choose 'X' or 'O':  \n"
     ]
    },
    {
     "name": "stdout",
     "output_type": "stream",
     "text": [
      "Invalid choice. Please choose 'X' or 'O'.\n"
     ]
    },
    {
     "name": "stdin",
     "output_type": "stream",
     "text": [
      "Player 1, please choose 'X' or 'O':  x\n"
     ]
    },
    {
     "name": "stdout",
     "output_type": "stream",
     "text": [
      "    |   |  \n",
      "  1 | 2 | 3\n",
      "_ _ _ _ _ _ _\n",
      "    |   |  \n",
      "  4 | 5 | 6\n",
      "_ _ _ _ _ _ _\n",
      "    |   |  \n",
      "  7 | 8 | 9\n",
      "    |   |  \n"
     ]
    },
    {
     "name": "stdin",
     "output_type": "stream",
     "text": [
      "Now it's player X's turn. Please select a number to put your sign:  1\n"
     ]
    },
    {
     "name": "stdout",
     "output_type": "stream",
     "text": [
      "    |   |  \n",
      "  X | 2 | 3\n",
      "_ _ _ _ _ _ _\n",
      "    |   |  \n",
      "  4 | 5 | 6\n",
      "_ _ _ _ _ _ _\n",
      "    |   |  \n",
      "  7 | 8 | 9\n",
      "    |   |  \n"
     ]
    },
    {
     "name": "stdin",
     "output_type": "stream",
     "text": [
      "Now it's player O's turn. Please select a number to put your sign:  1\n"
     ]
    },
    {
     "name": "stdout",
     "output_type": "stream",
     "text": [
      "    |   |  \n",
      "  X | 2 | 3\n",
      "_ _ _ _ _ _ _\n",
      "    |   |  \n",
      "  4 | 5 | 6\n",
      "_ _ _ _ _ _ _\n",
      "    |   |  \n",
      "  7 | 8 | 9\n",
      "    |   |  \n",
      "That spot is already taken. Please choose again.\n"
     ]
    },
    {
     "name": "stdin",
     "output_type": "stream",
     "text": [
      "Now it's player O's turn. Please select a number to put your sign:  2\n"
     ]
    },
    {
     "name": "stdout",
     "output_type": "stream",
     "text": [
      "    |   |  \n",
      "  X | O | 3\n",
      "_ _ _ _ _ _ _\n",
      "    |   |  \n",
      "  4 | 5 | 6\n",
      "_ _ _ _ _ _ _\n",
      "    |   |  \n",
      "  7 | 8 | 9\n",
      "    |   |  \n"
     ]
    },
    {
     "name": "stdin",
     "output_type": "stream",
     "text": [
      "Now it's player X's turn. Please select a number to put your sign:  2\n"
     ]
    },
    {
     "name": "stdout",
     "output_type": "stream",
     "text": [
      "    |   |  \n",
      "  X | O | 3\n",
      "_ _ _ _ _ _ _\n",
      "    |   |  \n",
      "  4 | 5 | 6\n",
      "_ _ _ _ _ _ _\n",
      "    |   |  \n",
      "  7 | 8 | 9\n",
      "    |   |  \n",
      "That spot is already taken. Please choose again.\n"
     ]
    },
    {
     "name": "stdin",
     "output_type": "stream",
     "text": [
      "Now it's player X's turn. Please select a number to put your sign:  5\n"
     ]
    },
    {
     "name": "stdout",
     "output_type": "stream",
     "text": [
      "    |   |  \n",
      "  X | O | 3\n",
      "_ _ _ _ _ _ _\n",
      "    |   |  \n",
      "  4 | X | 6\n",
      "_ _ _ _ _ _ _\n",
      "    |   |  \n",
      "  7 | 8 | 9\n",
      "    |   |  \n"
     ]
    },
    {
     "name": "stdin",
     "output_type": "stream",
     "text": [
      "Now it's player O's turn. Please select a number to put your sign:  3\n"
     ]
    },
    {
     "name": "stdout",
     "output_type": "stream",
     "text": [
      "    |   |  \n",
      "  X | O | O\n",
      "_ _ _ _ _ _ _\n",
      "    |   |  \n",
      "  4 | X | 6\n",
      "_ _ _ _ _ _ _\n",
      "    |   |  \n",
      "  7 | 8 | 9\n",
      "    |   |  \n"
     ]
    },
    {
     "name": "stdin",
     "output_type": "stream",
     "text": [
      "Now it's player X's turn. Please select a number to put your sign:  9\n"
     ]
    },
    {
     "name": "stdout",
     "output_type": "stream",
     "text": [
      "    |   |  \n",
      "  X | O | O\n",
      "_ _ _ _ _ _ _\n",
      "    |   |  \n",
      "  4 | X | 6\n",
      "_ _ _ _ _ _ _\n",
      "    |   |  \n",
      "  7 | 8 | X\n",
      "    |   |  \n",
      "Congratulations! Player X is the winner!\n"
     ]
    },
    {
     "name": "stdin",
     "output_type": "stream",
     "text": [
      "Rematch? (y/n):  n\n"
     ]
    }
   ],
   "source": [
    "gameBoard = [\"1\", \"2\", \"3\", \"4\", \"5\", \"6\", \"7\", \"8\", \"9\"]\n",
    "\n",
    "firstPlayer = \"X\"\n",
    "secondPlayer = \"O\"\n",
    "winner = None\n",
    "gamePlaying = True\n",
    "\n",
    "# Printing the game board \n",
    "def printGameBoard(gameBoard):\n",
    "    print(\"    |   |  \")\n",
    "    print(\"  \" + gameBoard[0] + \" | \" + gameBoard[1] + \" | \" + gameBoard[2])\n",
    "    print(\"_ _ _ _ _ _ _\")\n",
    "    print(\"    |   |  \")\n",
    "    print(\"  \" + gameBoard[3] + \" | \" + gameBoard[4] + \" | \" + gameBoard[5])\n",
    "    print(\"_ _ _ _ _ _ _\")\n",
    "    print(\"    |   |  \")\n",
    "    print(\"  \" + gameBoard[6] + \" | \" + gameBoard[7] + \" | \" + gameBoard[8])\n",
    "    print(\"    |   |  \")\n",
    "\n",
    "# Take player input \n",
    "def playerChoice(gameBoard):\n",
    "    global firstPlayer\n",
    "    while True:\n",
    "        gamer = input(\"Now it's player \" + firstPlayer + \"'s turn. Please select a number to put your sign: \")\n",
    "        gamer1 = int(gamer)\n",
    "        if 1 <= gamer1 <= 9:\n",
    "            if gameBoard[gamer1 - 1] not in [\"X\", \"O\"]:\n",
    "                gameBoard[gamer1 - 1] = firstPlayer\n",
    "                break\n",
    "            else:\n",
    "                printGameBoard(gameBoard)\n",
    "                print(\"That spot is already taken. Please choose again.\")\n",
    "        else:\n",
    "            printGameBoard(gameBoard)\n",
    "            print(\"Invalid input. Please input a number between 1 and 9.\")\n",
    "\n",
    "# Check for win or tie condition for the game \n",
    "# State horizontal winning condition\n",
    "def horizontalWinCondition(gameBoard):\n",
    "    global winner\n",
    "    if gameBoard[0] == gameBoard[1] == gameBoard[2]:\n",
    "        winner = gameBoard[0]\n",
    "        return True\n",
    "    elif gameBoard[3] == gameBoard[4] == gameBoard[5]:\n",
    "        winner = gameBoard[3]\n",
    "        return True\n",
    "    elif gameBoard[6] == gameBoard[7] == gameBoard[8]:\n",
    "        winner = gameBoard[6]\n",
    "        return True\n",
    "    return False\n",
    "\n",
    "# State row winning condition\n",
    "def rowWinCondition(gameBoard):\n",
    "    global winner\n",
    "    if gameBoard[0] == gameBoard[3] == gameBoard[6]:\n",
    "        winner = gameBoard[0]\n",
    "        return True\n",
    "    elif gameBoard[1] == gameBoard[4] == gameBoard[7]:\n",
    "        winner = gameBoard[1]\n",
    "        return True\n",
    "    elif gameBoard[2] == gameBoard[5] == gameBoard[8]:\n",
    "        winner = gameBoard[2]\n",
    "        return True\n",
    "    return False\n",
    "\n",
    "# State diagonal winning condition\n",
    "def diagonalWinCondition(gameBoard):\n",
    "    global winner\n",
    "    if gameBoard[0] == gameBoard[4] == gameBoard[8]:\n",
    "        winner = gameBoard[0]\n",
    "        return True\n",
    "    elif gameBoard[2] == gameBoard[4] == gameBoard[6]:\n",
    "        winner = gameBoard[2]\n",
    "        return True\n",
    "    return False\n",
    "\n",
    "# State out draw condition\n",
    "def tieGameCondition(gameBoard):\n",
    "    global gamePlaying\n",
    "    if all(x in [\"X\", \"O\"] for x in gameBoard) and not horizontalWinCondition(gameBoard) and not rowWinCondition(gameBoard) and not diagonalWinCondition(gameBoard):\n",
    "        printGameBoard(gameBoard)\n",
    "        print(\"It is a draw!\")\n",
    "        gamePlaying = False\n",
    "\n",
    "# System winning condition if fulfilled will trigger this function for winner announcement\n",
    "def checkingWinningCondition():\n",
    "    if horizontalWinCondition(gameBoard) or rowWinCondition(gameBoard) or diagonalWinCondition(gameBoard):\n",
    "        printGameBoard(gameBoard)\n",
    "        print(\"Congratulations! Player \" + winner + \" is the winner!\")\n",
    "        global gamePlaying\n",
    "        gamePlaying = False\n",
    "\n",
    "# Switch the player \n",
    "def playerTurn():\n",
    "    global firstPlayer, secondPlayer\n",
    "    firstPlayer, secondPlayer = secondPlayer, firstPlayer\n",
    "\n",
    "# Reset game after finish\n",
    "def resetGame():\n",
    "    global gameBoard, firstPlayer, secondPlayer, winner, gamePlaying\n",
    "    gameBoard = [\"1\", \"2\", \"3\", \"4\", \"5\", \"6\", \"7\", \"8\", \"9\"]\n",
    "    firstPlayer = \"X\"\n",
    "    secondPlayer = \"O\"\n",
    "    winner = None\n",
    "    gamePlaying = True\n",
    "\n",
    "# Prompt player 1 to choose 'X' or 'O' after game instructions and start confirmation\n",
    "def choosePlayerSymbol():\n",
    "    global firstPlayer, secondPlayer\n",
    "    print(\"!! Welcome To Tic Tac Toe !!\")\n",
    "    printGameBoard(gameBoard)\n",
    "    print(\"\\nMETHOD FOR PLAYING\\n\")\n",
    "    print(\"1. Choose the symbol that you want.\\n\")\n",
    "    print(\"2. Choose the number to place your symbol.\\n\")\n",
    "    print(\"3. Follow the Tic Tac Toe rules which you can win by putting your symbol diagonally, horizontally and vertically.\\n\")\n",
    "    print(\"When each symbol links together as the rules mention, you will count as won.\\n\")\n",
    "    \n",
    "    while True:\n",
    "        gameStart = input(\"Please enter '1' to start the game: \")\n",
    "        if gameStart == '1':\n",
    "            break\n",
    "        else:\n",
    "            print(\"Invalid input. Please enter '1' to start the game.\")\n",
    "\n",
    "    while True:\n",
    "        choice = input(\"Player 1, please choose 'X' or 'O': \").upper()\n",
    "        if choice in [\"X\", \"O\"]:\n",
    "            firstPlayer = choice\n",
    "            secondPlayer = \"O\" if firstPlayer == \"X\" else \"X\"\n",
    "            break\n",
    "        else:\n",
    "            print(\"Invalid choice. Please choose 'X' or 'O'.\")\n",
    "\n",
    "# Game flow\n",
    "while True:\n",
    "    choosePlayerSymbol()\n",
    "    while gamePlaying:\n",
    "        printGameBoard(gameBoard)\n",
    "        playerChoice(gameBoard)\n",
    "        checkingWinningCondition()\n",
    "        if gamePlaying:  # Check gamePlaying status before switching turn\n",
    "            playerTurn()\n",
    "        tieGameCondition(gameBoard)\n",
    "    \n",
    "    rematch = input(\"Rematch? (y/n): \").lower()\n",
    "    if rematch == 'y':\n",
    "        resetGame()\n",
    "    elif rematch == 'n':\n",
    "        break\n",
    "    else:\n",
    "        rematch = input(\"Rematch? (y/n): \").lower()\n"
   ]
  },
  {
   "cell_type": "code",
   "execution_count": null,
   "id": "d1e92d15-806d-4a6f-8009-c9391ba715aa",
   "metadata": {},
   "outputs": [],
   "source": []
  }
 ],
 "metadata": {
  "kernelspec": {
   "display_name": "Python 3 (ipykernel)",
   "language": "python",
   "name": "python3"
  },
  "language_info": {
   "codemirror_mode": {
    "name": "ipython",
    "version": 3
   },
   "file_extension": ".py",
   "mimetype": "text/x-python",
   "name": "python",
   "nbconvert_exporter": "python",
   "pygments_lexer": "ipython3",
   "version": "3.11.7"
  }
 },
 "nbformat": 4,
 "nbformat_minor": 5
}
